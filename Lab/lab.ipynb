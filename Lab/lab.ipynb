{
 "cells": [
  {
   "cell_type": "code",
   "execution_count": 2,
   "metadata": {
    "ExecuteTime": {
     "end_time": "2020-11-04T15:41:25.769358Z",
     "start_time": "2020-11-04T15:41:25.759461Z"
    }
   },
   "outputs": [],
   "source": [
    "# imports\n",
    "import numpy as np\n",
    "from PIL import Image"
   ]
  },
  {
   "cell_type": "code",
   "execution_count": 3,
   "metadata": {
    "ExecuteTime": {
     "end_time": "2020-11-04T15:41:26.134572Z",
     "start_time": "2020-11-04T15:41:26.125773Z"
    }
   },
   "outputs": [],
   "source": [
    "# init colors\n",
    "black, white = [0]*3, [255]*3"
   ]
  },
  {
   "cell_type": "code",
   "execution_count": 4,
   "metadata": {
    "ExecuteTime": {
     "end_time": "2020-11-04T15:41:26.929161Z",
     "start_time": "2020-11-04T15:41:26.693048Z"
    }
   },
   "outputs": [],
   "source": [
    "# load data\n",
    "data = np.loadtxt('data/DS2.txt', dtype=int)\n",
    "\n",
    "# create array with white pixels\n",
    "pixel_data = np.full(shape=(540, 960, 3), fill_value=white, dtype=np.uint8)\n",
    "\n",
    "# draw black pixels\n",
    "pixel_data[539-data[:,0], data[:,1]] = black"
   ]
  },
  {
   "cell_type": "code",
   "execution_count": 5,
   "metadata": {
    "ExecuteTime": {
     "end_time": "2020-11-04T15:41:27.358465Z",
     "start_time": "2020-11-04T15:41:27.296647Z"
    }
   },
   "outputs": [],
   "source": [
    "# create image\n",
    "img = Image.fromarray(pixel_data, 'RGB')\n",
    "\n",
    "#show image\n",
    "img.show()\n",
    "\n",
    "# save image\n",
    "img.save('data/image.png')"
   ]
  },
  {
   "cell_type": "code",
   "execution_count": null,
   "metadata": {},
   "outputs": [],
   "source": []
  },
  {
   "cell_type": "code",
   "execution_count": null,
   "metadata": {},
   "outputs": [],
   "source": []
  }
 ],
 "metadata": {
  "kernelspec": {
   "display_name": "Python 3",
   "language": "python",
   "name": "python3"
  },
  "language_info": {
   "codemirror_mode": {
    "name": "ipython",
    "version": 3
   },
   "file_extension": ".py",
   "mimetype": "text/x-python",
   "name": "python",
   "nbconvert_exporter": "python",
   "pygments_lexer": "ipython3",
   "version": "3.8.2"
  },
  "toc": {
   "base_numbering": 1,
   "nav_menu": {},
   "number_sections": true,
   "sideBar": true,
   "skip_h1_title": false,
   "title_cell": "Table of Contents",
   "title_sidebar": "Contents",
   "toc_cell": false,
   "toc_position": {},
   "toc_section_display": true,
   "toc_window_display": false
  },
  "varInspector": {
   "cols": {
    "lenName": 16,
    "lenType": 16,
    "lenVar": 40
   },
   "kernels_config": {
    "python": {
     "delete_cmd_postfix": "",
     "delete_cmd_prefix": "del ",
     "library": "var_list.py",
     "varRefreshCmd": "print(var_dic_list())"
    },
    "r": {
     "delete_cmd_postfix": ") ",
     "delete_cmd_prefix": "rm(",
     "library": "var_list.r",
     "varRefreshCmd": "cat(var_dic_list()) "
    }
   },
   "types_to_exclude": [
    "module",
    "function",
    "builtin_function_or_method",
    "instance",
    "_Feature"
   ],
   "window_display": false
  }
 },
 "nbformat": 4,
 "nbformat_minor": 4
}
