{
 "cells": [
  {
   "cell_type": "code",
   "execution_count": 1,
   "metadata": {
    "ExecuteTime": {
     "end_time": "2020-12-20T19:16:06.880201Z",
     "start_time": "2020-12-20T19:16:06.868981Z"
    }
   },
   "outputs": [],
   "source": [
    "# imports\n",
    "import numpy as np\n",
    "from PIL import Image"
   ]
  },
  {
   "cell_type": "code",
   "execution_count": 2,
   "metadata": {
    "ExecuteTime": {
     "end_time": "2020-12-20T19:16:07.256930Z",
     "start_time": "2020-12-20T19:16:07.250573Z"
    }
   },
   "outputs": [],
   "source": [
    "# init colors\n",
    "white, blue = [255, 255, 255], [0, 0, 255]"
   ]
  },
  {
   "cell_type": "code",
   "execution_count": 3,
   "metadata": {
    "ExecuteTime": {
     "end_time": "2020-12-20T19:16:07.693087Z",
     "start_time": "2020-12-20T19:16:07.665878Z"
    }
   },
   "outputs": [],
   "source": [
    "def load_data(path='data/DS2.txt'):\n",
    "    # load\n",
    "    data = np.loadtxt(path, dtype=int)\n",
    "    \n",
    "    # mirror inverse y\n",
    "    data[:, 0] = 959 - data[:, 0]\n",
    "    \n",
    "    # add new axis z = [100, 100, ..., 100]\n",
    "    data = np.insert(data, 2, [100]*len(data), axis=1)\n",
    "    \n",
    "    return data\n",
    "\n",
    "\n",
    "def get_perspective_projection(data, vanishing_point=(540, 960), distanse=15):\n",
    "    '''\n",
    "    Pillow x, y coords starts with top left angle\n",
    "    ----------------------\n",
    "    |(0, 0) (0, 1) (0, 2)|\n",
    "    |(1, 0) (1, 1) (1, 2)|\n",
    "    |(2, 0) (2, 1) (2, 2)|\n",
    "    ---------------------\n",
    "    '''\n",
    "    \n",
    "    pil_start_point = (540, 0)\n",
    "    \n",
    "    # x_shift\n",
    "    data[:, 0] -= vanishing_point[0] - pil_start_point[0]\n",
    "    \n",
    "    # x_transform\n",
    "    data[:, 0] = distanse * data[:, 0] / (distanse + data[:, 2])\n",
    "    \n",
    "    # x_shift\n",
    "    data[:, 0] += vanishing_point[0] - pil_start_point[0]\n",
    "\n",
    "    # y_shift\n",
    "    data[:, 1] -= vanishing_point[1] - pil_start_point[1]\n",
    "    \n",
    "    # y_transform\n",
    "    data[:, 1] = distanse * data[:, 1] / (distanse + data[:, 2])\n",
    "    \n",
    "    # y_shift\n",
    "    data[:, 1] += vanishing_point[1] - pil_start_point[1]\n",
    "    \n",
    "    return data\n",
    "    \n",
    "    \n",
    "def generate_image(figure):\n",
    "    # create array with white pixels\n",
    "    pixel_image = np.full(shape=(540, 960, 3), fill_value=white, dtype=np.uint8)\n",
    "    \n",
    "    # draw blue pixels\n",
    "    pixel_image[figure[:,0], figure[:,1]] = blue\n",
    "    \n",
    "    return pixel_image\n",
    "\n",
    "\n",
    "def show(image, save_path='data/perspective_projection.png'):\n",
    "    # create image\n",
    "    img = Image.fromarray(image, 'RGB')\n",
    "    \n",
    "    #show image\n",
    "    img.show()\n",
    "    \n",
    "    # save image\n",
    "    img.save(save_path)"
   ]
  },
  {
   "cell_type": "code",
   "execution_count": 4,
   "metadata": {
    "ExecuteTime": {
     "end_time": "2020-12-20T19:16:08.406969Z",
     "start_time": "2020-12-20T19:16:08.131776Z"
    }
   },
   "outputs": [],
   "source": [
    "data = load_data()\n",
    "\n",
    "get_perspective_projection(data)\n",
    "\n",
    "img = generate_image(data)\n",
    "\n",
    "show(img)"
   ]
  },
  {
   "cell_type": "code",
   "execution_count": null,
   "metadata": {},
   "outputs": [],
   "source": []
  }
 ],
 "metadata": {
  "kernelspec": {
   "display_name": "Python 3",
   "language": "python",
   "name": "python3"
  },
  "language_info": {
   "codemirror_mode": {
    "name": "ipython",
    "version": 3
   },
   "file_extension": ".py",
   "mimetype": "text/x-python",
   "name": "python",
   "nbconvert_exporter": "python",
   "pygments_lexer": "ipython3",
   "version": "3.8.3"
  },
  "toc": {
   "base_numbering": 1,
   "nav_menu": {},
   "number_sections": true,
   "sideBar": true,
   "skip_h1_title": false,
   "title_cell": "Table of Contents",
   "title_sidebar": "Contents",
   "toc_cell": false,
   "toc_position": {},
   "toc_section_display": true,
   "toc_window_display": false
  },
  "varInspector": {
   "cols": {
    "lenName": 16,
    "lenType": 16,
    "lenVar": 40
   },
   "kernels_config": {
    "python": {
     "delete_cmd_postfix": "",
     "delete_cmd_prefix": "del ",
     "library": "var_list.py",
     "varRefreshCmd": "print(var_dic_list())"
    },
    "r": {
     "delete_cmd_postfix": ") ",
     "delete_cmd_prefix": "rm(",
     "library": "var_list.r",
     "varRefreshCmd": "cat(var_dic_list()) "
    }
   },
   "types_to_exclude": [
    "module",
    "function",
    "builtin_function_or_method",
    "instance",
    "_Feature"
   ],
   "window_display": false
  }
 },
 "nbformat": 4,
 "nbformat_minor": 4
}
