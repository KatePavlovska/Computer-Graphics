{
 "cells": [
  {
   "cell_type": "code",
   "execution_count": 5,
   "metadata": {
    "ExecuteTime": {
     "end_time": "2020-11-18T21:51:46.617607Z",
     "start_time": "2020-11-18T21:51:46.611578Z"
    }
   },
   "outputs": [],
   "source": [
    "# imports\n",
    "import numpy as np\n",
    "from PIL import Image"
   ]
  },
  {
   "cell_type": "code",
   "execution_count": 6,
   "metadata": {
    "ExecuteTime": {
     "end_time": "2020-11-18T21:51:46.911577Z",
     "start_time": "2020-11-18T21:51:46.905663Z"
    }
   },
   "outputs": [],
   "source": [
    "# init colors\n",
    "black, white, blue = [0, 0, 0], [255, 255, 255], [0, 0, 255]"
   ]
  },
  {
   "cell_type": "code",
   "execution_count": 7,
   "metadata": {
    "ExecuteTime": {
     "end_time": "2020-11-18T21:51:47.130525Z",
     "start_time": "2020-11-18T21:51:47.112245Z"
    }
   },
   "outputs": [],
   "source": [
    "def simpe_rotate(figure, rotate_point=(480, 480), angle=np.pi/6):\n",
    "    rotated_figure = figure.copy()\n",
    "    \n",
    "    # default rotate matrix\n",
    "    rotate_matrix = np.array([\n",
    "        [np.cos(angle), np.sin(angle)],\n",
    "        [-np.sin(angle), np.cos(angle)]\n",
    "    ])\n",
    "    \n",
    "    # shift to start coordinates\n",
    "    rotated_figure -= rotate_point\n",
    "    \n",
    "    # rotate\n",
    "    rotated_figure = rotated_figure @ rotate_matrix\n",
    "    \n",
    "    # shift back\n",
    "    rotated_figure += rotate_point\n",
    "\n",
    "    return np.round(rotated_figure).astype(int)\n",
    "\n",
    "\n",
    "def best_rotate(figure, rotate_point=(480, 480), angle=np.pi/6):\n",
    "    rotated_figure = figure.copy()\n",
    "    \n",
    "    # x_axis shift matrix\n",
    "    x_shift = np.array([\n",
    "        [1, np.tan(angle/2)],\n",
    "        [0, 1]\n",
    "    ])\n",
    "    \n",
    "    # y_axis shift matrix\n",
    "    y_shift = np.array([\n",
    "        [1, 0],\n",
    "        [-np.sin(angle), 1]\n",
    "    ])\n",
    "    \n",
    "    # shift to start coordinates\n",
    "    rotated_figure -= rotate_point\n",
    "    \n",
    "    # apply x_axis shift\n",
    "    rotated_figure = rotated_figure @ x_shift\n",
    "    \n",
    "    # apply y_axis shift\n",
    "    rotated_figure = np.ceil(rotated_figure @ y_shift)\n",
    "    \n",
    "    # apply x_axis shift\n",
    "    rotated_figure = rotated_figure @ x_shift\n",
    "    \n",
    "    # shift back\n",
    "    rotated_figure += rotate_point\n",
    "    \n",
    "    return np.round(rotated_figure).astype(int)\n",
    "\n",
    "def generate_image(figure):\n",
    "    # create array with white pixels\n",
    "    pixel_image = np.full(shape=(960, 960, 3), fill_value=white, dtype=np.uint8)\n",
    "    \n",
    "    # draw black pixels\n",
    "    pixel_image[data[:,0], data[:,1]] = black\n",
    "    \n",
    "    # draw blue pixels\n",
    "    pixel_image[figure[:,0], figure[:,1]] = blue\n",
    "    \n",
    "    return pixel_image\n",
    "\n",
    "def show(image, save_path):\n",
    "    # create image\n",
    "    img = Image.fromarray(image, 'RGB')\n",
    "    \n",
    "    #show image\n",
    "    img.show()\n",
    "    \n",
    "    # save image\n",
    "    img.save(save_path)"
   ]
  },
  {
   "cell_type": "code",
   "execution_count": 8,
   "metadata": {
    "ExecuteTime": {
     "end_time": "2020-11-18T21:51:50.861110Z",
     "start_time": "2020-11-18T21:51:47.484064Z"
    }
   },
   "outputs": [],
   "source": [
    "# load data\n",
    "data = np.loadtxt('data/DS2.txt', dtype=int)\n",
    "data[:, 0] = 959 - data[:, 0]\n",
    "\n",
    "# rotate data\n",
    "simpe_rotate_figure = simpe_rotate(data)\n",
    "best_rotate_figure = best_rotate(data)\n",
    "\n",
    "# generate image\n",
    "im1 = generate_image(simpe_rotate_figure)\n",
    "im2 = generate_image(best_rotate_figure)\n",
    "\n",
    "# show and save image\n",
    "show(im1, 'data/simple_rotate.png')\n",
    "show(im2, 'data/best_rotate.png')"
   ]
  }
 ],
 "metadata": {
  "kernelspec": {
   "display_name": "Python 3",
   "language": "python",
   "name": "python3"
  },
  "language_info": {
   "codemirror_mode": {
    "name": "ipython",
    "version": 3
   },
   "file_extension": ".py",
   "mimetype": "text/x-python",
   "name": "python",
   "nbconvert_exporter": "python",
   "pygments_lexer": "ipython3",
   "version": "3.8.3"
  },
  "toc": {
   "base_numbering": 1,
   "nav_menu": {},
   "number_sections": true,
   "sideBar": true,
   "skip_h1_title": false,
   "title_cell": "Table of Contents",
   "title_sidebar": "Contents",
   "toc_cell": false,
   "toc_position": {},
   "toc_section_display": true,
   "toc_window_display": false
  },
  "varInspector": {
   "cols": {
    "lenName": 16,
    "lenType": 16,
    "lenVar": 40
   },
   "kernels_config": {
    "python": {
     "delete_cmd_postfix": "",
     "delete_cmd_prefix": "del ",
     "library": "var_list.py",
     "varRefreshCmd": "print(var_dic_list())"
    },
    "r": {
     "delete_cmd_postfix": ") ",
     "delete_cmd_prefix": "rm(",
     "library": "var_list.r",
     "varRefreshCmd": "cat(var_dic_list()) "
    }
   },
   "types_to_exclude": [
    "module",
    "function",
    "builtin_function_or_method",
    "instance",
    "_Feature"
   ],
   "window_display": false
  }
 },
 "nbformat": 4,
 "nbformat_minor": 4
}
